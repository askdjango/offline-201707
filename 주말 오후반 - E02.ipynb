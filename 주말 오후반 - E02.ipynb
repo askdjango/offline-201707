{
 "cells": [
  {
   "cell_type": "code",
   "execution_count": 1,
   "metadata": {},
   "outputs": [
    {
     "name": "stdout",
     "output_type": "stream",
     "text": [
      "Enter number : 123\n"
     ]
    }
   ],
   "source": [
    "number = int(input('Enter number : '))"
   ]
  },
  {
   "cell_type": "code",
   "execution_count": 2,
   "metadata": {},
   "outputs": [
    {
     "data": {
      "text/plain": [
       "123"
      ]
     },
     "execution_count": 2,
     "metadata": {},
     "output_type": "execute_result"
    }
   ],
   "source": [
    "number"
   ]
  },
  {
   "cell_type": "code",
   "execution_count": 3,
   "metadata": {},
   "outputs": [
    {
     "data": {
      "text/plain": [
       "False"
      ]
     },
     "execution_count": 3,
     "metadata": {},
     "output_type": "execute_result"
    }
   ],
   "source": [
    "123 < 39"
   ]
  },
  {
   "cell_type": "code",
   "execution_count": 4,
   "metadata": {},
   "outputs": [
    {
     "data": {
      "text/plain": [
       "True"
      ]
     },
     "execution_count": 4,
     "metadata": {},
     "output_type": "execute_result"
    }
   ],
   "source": [
    "'123' < '39'"
   ]
  },
  {
   "cell_type": "code",
   "execution_count": 5,
   "metadata": {},
   "outputs": [
    {
     "data": {
      "text/plain": [
       "(49, 51)"
      ]
     },
     "execution_count": 5,
     "metadata": {},
     "output_type": "execute_result"
    }
   ],
   "source": [
    "ord('1'), ord('3')"
   ]
  },
  {
   "cell_type": "code",
   "execution_count": 6,
   "metadata": {},
   "outputs": [
    {
     "data": {
      "text/plain": [
       "False"
      ]
     },
     "execution_count": 6,
     "metadata": {},
     "output_type": "execute_result"
    }
   ],
   "source": [
    "int('123') < int('39')"
   ]
  },
  {
   "cell_type": "code",
   "execution_count": 8,
   "metadata": {},
   "outputs": [
    {
     "name": "stdout",
     "output_type": "stream",
     "text": [
      "Enter number : 12341234\n"
     ]
    },
    {
     "data": {
      "text/plain": [
       "12341234"
      ]
     },
     "execution_count": 8,
     "metadata": {},
     "output_type": "execute_result"
    }
   ],
   "source": [
    "int(input('Enter number : '))"
   ]
  },
  {
   "cell_type": "markdown",
   "metadata": {},
   "source": [
    "## 반복문"
   ]
  },
  {
   "cell_type": "code",
   "execution_count": 9,
   "metadata": {},
   "outputs": [
    {
     "name": "stdout",
     "output_type": "stream",
     "text": [
      "0\n",
      "1\n",
      "2\n",
      "3\n",
      "4\n",
      "5\n",
      "6\n",
      "7\n",
      "8\n",
      "9\n"
     ]
    }
   ],
   "source": [
    "for i in range(10):\n",
    "    print(i)"
   ]
  },
  {
   "cell_type": "code",
   "execution_count": 11,
   "metadata": {},
   "outputs": [
    {
     "name": "stdout",
     "output_type": "stream",
     "text": [
      "1\n",
      "2\n",
      "3\n",
      "4\n",
      "5\n",
      "6\n",
      "7\n",
      "8\n",
      "9\n",
      "10\n"
     ]
    }
   ],
   "source": [
    "for i in [1, 2, 3, 4, 5, 6, 7, 8, 9, 10]:\n",
    "    print(i)"
   ]
  },
  {
   "cell_type": "code",
   "execution_count": 13,
   "metadata": {},
   "outputs": [
    {
     "name": "stdout",
     "output_type": "stream",
     "text": [
      "0\n",
      "1\n",
      "2\n",
      "3\n",
      "4\n"
     ]
    }
   ],
   "source": [
    "for i in range(10):\n",
    "    print(i)\n",
    "    if i > 3:\n",
    "        break"
   ]
  },
  {
   "cell_type": "code",
   "execution_count": 18,
   "metadata": {},
   "outputs": [
    {
     "name": "stdout",
     "output_type": "stream",
     "text": [
      "#### 2단 ####\n",
      "2 * 1 = 2\n",
      "2 * 2 = 4\n",
      "2 * 3 = 6\n",
      "2 * 4 = 8\n",
      "2 * 5 = 10\n",
      "2 * 6 = 12\n",
      "2 * 7 = 14\n",
      "2 * 8 = 16\n",
      "2 * 9 = 18\n",
      "\n",
      "#### 3단 ####\n",
      "3 * 1 = 3\n",
      "3 * 2 = 6\n",
      "3 * 3 = 9\n",
      "3 * 4 = 12\n",
      "3 * 5 = 15\n",
      "3 * 6 = 18\n",
      "3 * 7 = 21\n",
      "3 * 8 = 24\n",
      "3 * 9 = 27\n",
      "\n",
      "#### 4단 ####\n",
      "4 * 1 = 4\n",
      "4 * 2 = 8\n",
      "4 * 3 = 12\n",
      "4 * 4 = 16\n",
      "4 * 5 = 20\n",
      "4 * 6 = 24\n",
      "4 * 7 = 28\n",
      "4 * 8 = 32\n",
      "4 * 9 = 36\n",
      "\n",
      "#### 5단 ####\n",
      "5 * 1 = 5\n",
      "5 * 2 = 10\n",
      "5 * 3 = 15\n",
      "5 * 4 = 20\n",
      "5 * 5 = 25\n",
      "5 * 6 = 30\n",
      "5 * 7 = 35\n",
      "5 * 8 = 40\n",
      "5 * 9 = 45\n",
      "\n",
      "#### 6단 ####\n",
      "6 * 1 = 6\n",
      "6 * 2 = 12\n",
      "6 * 3 = 18\n",
      "6 * 4 = 24\n",
      "6 * 5 = 30\n",
      "6 * 6 = 36\n",
      "6 * 7 = 42\n",
      "6 * 8 = 48\n",
      "6 * 9 = 54\n",
      "\n",
      "#### 7단 ####\n",
      "7 * 1 = 7\n",
      "7 * 2 = 14\n",
      "7 * 3 = 21\n",
      "7 * 4 = 28\n",
      "7 * 5 = 35\n",
      "7 * 6 = 42\n",
      "7 * 7 = 49\n",
      "7 * 8 = 56\n",
      "7 * 9 = 63\n",
      "\n",
      "#### 8단 ####\n",
      "8 * 1 = 8\n",
      "8 * 2 = 16\n",
      "8 * 3 = 24\n",
      "8 * 4 = 32\n",
      "8 * 5 = 40\n",
      "8 * 6 = 48\n",
      "8 * 7 = 56\n",
      "8 * 8 = 64\n",
      "8 * 9 = 72\n",
      "\n",
      "#### 9단 ####\n",
      "9 * 1 = 9\n",
      "9 * 2 = 18\n",
      "9 * 3 = 27\n",
      "9 * 4 = 36\n",
      "9 * 5 = 45\n",
      "9 * 6 = 54\n",
      "9 * 7 = 63\n",
      "9 * 8 = 72\n",
      "9 * 9 = 81\n",
      "\n"
     ]
    }
   ],
   "source": [
    "for i in range(2, 10):\n",
    "    print('#### {}단 ####'.format(i))\n",
    "    for j in range(1, 10):\n",
    "        print('{} * {} = {}'.format(i, j, i*j))\n",
    "        # break\n",
    "    print()"
   ]
  },
  {
   "cell_type": "code",
   "execution_count": 19,
   "metadata": {
    "collapsed": true
   },
   "outputs": [],
   "source": [
    "range?"
   ]
  },
  {
   "cell_type": "markdown",
   "metadata": {},
   "source": [
    "## 함수"
   ]
  },
  {
   "cell_type": "code",
   "execution_count": 28,
   "metadata": {},
   "outputs": [
    {
     "name": "stdout",
     "output_type": "stream",
     "text": [
      "---- 2단 ----\n",
      "- 2 * 1 = 2\n",
      "- 2 * 2 = 4\n",
      "- 2 * 3 = 6\n",
      "- 2 * 4 = 8\n",
      "- 2 * 5 = 10\n",
      "- 2 * 6 = 12\n",
      "- 2 * 7 = 14\n",
      "- 2 * 8 = 16\n",
      "- 2 * 9 = 18\n",
      "---- 3단 ----\n",
      "- 3 * 1 = 3\n",
      "- 3 * 2 = 6\n",
      "- 3 * 3 = 9\n",
      "- 3 * 4 = 12\n",
      "- 3 * 5 = 15\n",
      "- 3 * 6 = 18\n",
      "- 3 * 7 = 21\n",
      "- 3 * 8 = 24\n",
      "- 3 * 9 = 27\n",
      "---- 4단 ----\n",
      "- 4 * 1 = 4\n",
      "- 4 * 2 = 8\n",
      "- 4 * 3 = 12\n",
      "- 4 * 4 = 16\n",
      "- 4 * 5 = 20\n",
      "- 4 * 6 = 24\n",
      "- 4 * 7 = 28\n",
      "- 4 * 8 = 32\n",
      "- 4 * 9 = 36\n",
      "---- 5단 ----\n",
      "- 5 * 1 = 5\n",
      "- 5 * 2 = 10\n",
      "- 5 * 3 = 15\n",
      "- 5 * 4 = 20\n",
      "- 5 * 5 = 25\n",
      "- 5 * 6 = 30\n",
      "- 5 * 7 = 35\n",
      "- 5 * 8 = 40\n",
      "- 5 * 9 = 45\n"
     ]
    }
   ],
   "source": [
    "def gugudan(number):\n",
    "    print('---- {}단 ----'.format(number))\n",
    "    for i in range(1, 10):\n",
    "        print('- {} * {} = {}'.format(number, i, number*i))\n",
    "\n",
    "gugudan(2)\n",
    "gugudan(3)\n",
    "gugudan(4)\n",
    "gugudan(5)"
   ]
  },
  {
   "cell_type": "code",
   "execution_count": 29,
   "metadata": {},
   "outputs": [
    {
     "name": "stdout",
     "output_type": "stream",
     "text": [
      "---- 2단 ----\n",
      "- 2 * 1 = 2\n",
      "- 2 * 2 = 4\n",
      "- 2 * 3 = 6\n",
      "- 2 * 4 = 8\n",
      "- 2 * 5 = 10\n",
      "- 2 * 6 = 12\n",
      "- 2 * 7 = 14\n",
      "- 2 * 8 = 16\n",
      "- 2 * 9 = 18\n",
      "None\n"
     ]
    }
   ],
   "source": [
    "ret = gugudan(2)\n",
    "print(ret)"
   ]
  },
  {
   "cell_type": "markdown",
   "metadata": {},
   "source": [
    "## 인자"
   ]
  },
  {
   "cell_type": "code",
   "execution_count": 30,
   "metadata": {},
   "outputs": [
    {
     "data": {
      "text/plain": [
       "'안녕. 나는 Tom이야. 10살이지.'"
      ]
     },
     "execution_count": 30,
     "metadata": {},
     "output_type": "execute_result"
    }
   ],
   "source": [
    "'안녕. 나는 {}이야. {}살이지.'.format('Tom', 10)"
   ]
  },
  {
   "cell_type": "code",
   "execution_count": 31,
   "metadata": {
    "collapsed": true
   },
   "outputs": [],
   "source": [
    "def say_hello(name, age):\n",
    "    return '안녕. 나는 {}임. {}살이지.'.format(name, age)"
   ]
  },
  {
   "cell_type": "code",
   "execution_count": 32,
   "metadata": {},
   "outputs": [
    {
     "data": {
      "text/plain": [
       "'안녕. 나는 Tom임. 10살이지.'"
      ]
     },
     "execution_count": 32,
     "metadata": {},
     "output_type": "execute_result"
    }
   ],
   "source": [
    "say_hello('Tom', 10)"
   ]
  },
  {
   "cell_type": "code",
   "execution_count": 33,
   "metadata": {},
   "outputs": [
    {
     "ename": "TypeError",
     "evalue": "say_hello() missing 2 required positional arguments: 'name' and 'age'",
     "output_type": "error",
     "traceback": [
      "\u001b[0;31m---------------------------------------------------------------------------\u001b[0m",
      "\u001b[0;31mTypeError\u001b[0m                                 Traceback (most recent call last)",
      "\u001b[0;32m<ipython-input-33-dab585aaf18f>\u001b[0m in \u001b[0;36m<module>\u001b[0;34m()\u001b[0m\n\u001b[0;32m----> 1\u001b[0;31m \u001b[0msay_hello\u001b[0m\u001b[0;34m(\u001b[0m\u001b[0;34m)\u001b[0m\u001b[0;34m\u001b[0m\u001b[0m\n\u001b[0m",
      "\u001b[0;31mTypeError\u001b[0m: say_hello() missing 2 required positional arguments: 'name' and 'age'"
     ]
    }
   ],
   "source": [
    "say_hello()"
   ]
  },
  {
   "cell_type": "markdown",
   "metadata": {},
   "source": [
    "### 디폴트 인자 & 키워드 인자"
   ]
  },
  {
   "cell_type": "code",
   "execution_count": 34,
   "metadata": {
    "collapsed": true
   },
   "outputs": [],
   "source": [
    "def say_hello(name, age=10):\n",
    "    return '안녕. 나는 {}임. {}살이지.'.format(name, age)"
   ]
  },
  {
   "cell_type": "code",
   "execution_count": 35,
   "metadata": {},
   "outputs": [
    {
     "data": {
      "text/plain": [
       "'안녕. 나는 Steve임. 10살이지.'"
      ]
     },
     "execution_count": 35,
     "metadata": {},
     "output_type": "execute_result"
    }
   ],
   "source": [
    "say_hello('Steve')"
   ]
  },
  {
   "cell_type": "code",
   "execution_count": 36,
   "metadata": {},
   "outputs": [
    {
     "data": {
      "text/plain": [
       "'안녕. 나는 John임. 15살이지.'"
      ]
     },
     "execution_count": 36,
     "metadata": {},
     "output_type": "execute_result"
    }
   ],
   "source": [
    "say_hello('John', 15)"
   ]
  },
  {
   "cell_type": "code",
   "execution_count": 37,
   "metadata": {},
   "outputs": [
    {
     "data": {
      "text/plain": [
       "'안녕. 나는 Tom임. 12살이지.'"
      ]
     },
     "execution_count": 37,
     "metadata": {},
     "output_type": "execute_result"
    }
   ],
   "source": [
    "say_hello('Tom', age=12)"
   ]
  },
  {
   "cell_type": "code",
   "execution_count": 54,
   "metadata": {
    "collapsed": true
   },
   "outputs": [],
   "source": [
    "def say_hello2(name, age):\n",
    "    return '안녕. 나는 {}임. {}살이지.'.format(name, age)"
   ]
  },
  {
   "cell_type": "code",
   "execution_count": 56,
   "metadata": {},
   "outputs": [
    {
     "data": {
      "text/plain": [
       "'안녕. 나는 Tom임. 10살이지.'"
      ]
     },
     "execution_count": 56,
     "metadata": {},
     "output_type": "execute_result"
    }
   ],
   "source": [
    "say_hello2(age=10, name='Tom')"
   ]
  },
  {
   "cell_type": "markdown",
   "metadata": {},
   "source": [
    "## 1급 객체"
   ]
  },
  {
   "cell_type": "code",
   "execution_count": 60,
   "metadata": {
    "collapsed": true
   },
   "outputs": [],
   "source": [
    "def mysum(x, y):\n",
    "    return x + y"
   ]
  },
  {
   "cell_type": "code",
   "execution_count": 61,
   "metadata": {},
   "outputs": [
    {
     "data": {
      "text/plain": [
       "3"
      ]
     },
     "execution_count": 61,
     "metadata": {},
     "output_type": "execute_result"
    }
   ],
   "source": [
    "mysum(1, 2)"
   ]
  },
  {
   "cell_type": "code",
   "execution_count": 62,
   "metadata": {},
   "outputs": [
    {
     "data": {
      "text/plain": [
       "11"
      ]
     },
     "execution_count": 62,
     "metadata": {},
     "output_type": "execute_result"
    }
   ],
   "source": [
    "mysum(y=10, x=1)"
   ]
  },
  {
   "cell_type": "code",
   "execution_count": null,
   "metadata": {
    "collapsed": true
   },
   "outputs": [],
   "source": []
  },
  {
   "cell_type": "code",
   "execution_count": 39,
   "metadata": {},
   "outputs": [
    {
     "data": {
      "text/plain": [
       "3"
      ]
     },
     "execution_count": 39,
     "metadata": {},
     "output_type": "execute_result"
    }
   ],
   "source": [
    "mysum(1, 2)"
   ]
  },
  {
   "cell_type": "code",
   "execution_count": 40,
   "metadata": {
    "collapsed": true
   },
   "outputs": [],
   "source": [
    "another_fn = mysum"
   ]
  },
  {
   "cell_type": "code",
   "execution_count": 41,
   "metadata": {},
   "outputs": [
    {
     "data": {
      "text/plain": [
       "3"
      ]
     },
     "execution_count": 41,
     "metadata": {},
     "output_type": "execute_result"
    }
   ],
   "source": [
    "another_fn(1, 2)"
   ]
  },
  {
   "cell_type": "code",
   "execution_count": 42,
   "metadata": {},
   "outputs": [
    {
     "data": {
      "text/plain": [
       "<function __main__.<lambda>>"
      ]
     },
     "execution_count": 42,
     "metadata": {},
     "output_type": "execute_result"
    }
   ],
   "source": [
    "lambda x, y: x + y"
   ]
  },
  {
   "cell_type": "code",
   "execution_count": 43,
   "metadata": {},
   "outputs": [
    {
     "data": {
      "text/plain": [
       "3"
      ]
     },
     "execution_count": 43,
     "metadata": {},
     "output_type": "execute_result"
    }
   ],
   "source": [
    "(lambda x, y: x + y)(1, 2)"
   ]
  },
  {
   "cell_type": "code",
   "execution_count": 44,
   "metadata": {},
   "outputs": [
    {
     "data": {
      "text/plain": [
       "3"
      ]
     },
     "execution_count": 44,
     "metadata": {},
     "output_type": "execute_result"
    }
   ],
   "source": [
    "mysum2 = lambda x, y: x + y\n",
    "mysum2(1, 2)"
   ]
  },
  {
   "cell_type": "code",
   "execution_count": 45,
   "metadata": {
    "collapsed": true
   },
   "outputs": [],
   "source": [
    "def myfn(fn, x, y):\n",
    "    return fn(x, y)"
   ]
  },
  {
   "cell_type": "code",
   "execution_count": 46,
   "metadata": {},
   "outputs": [
    {
     "data": {
      "text/plain": [
       "3"
      ]
     },
     "execution_count": 46,
     "metadata": {},
     "output_type": "execute_result"
    }
   ],
   "source": [
    "myfn(mysum2, 1, 2)"
   ]
  },
  {
   "cell_type": "code",
   "execution_count": 47,
   "metadata": {},
   "outputs": [
    {
     "data": {
      "text/plain": [
       "3"
      ]
     },
     "execution_count": 47,
     "metadata": {},
     "output_type": "execute_result"
    }
   ],
   "source": [
    "myfn(lambda x, y: x + y, 1, 2)"
   ]
  },
  {
   "cell_type": "code",
   "execution_count": 48,
   "metadata": {},
   "outputs": [
    {
     "data": {
      "text/plain": [
       "2"
      ]
     },
     "execution_count": 48,
     "metadata": {},
     "output_type": "execute_result"
    }
   ],
   "source": [
    "myfn(lambda x, y: x * y, 1, 2)"
   ]
  },
  {
   "cell_type": "markdown",
   "metadata": {},
   "source": [
    "## 고차함수"
   ]
  },
  {
   "cell_type": "code",
   "execution_count": 49,
   "metadata": {},
   "outputs": [
    {
     "data": {
      "text/plain": [
       "3"
      ]
     },
     "execution_count": 49,
     "metadata": {},
     "output_type": "execute_result"
    }
   ],
   "source": [
    "def base_calculator1():\n",
    "    # i = 0\n",
    "    wrap = lambda x, y: x + y\n",
    "    return wrap\n",
    "\n",
    "fn = base_calculator1()\n",
    "fn(1, 2)"
   ]
  },
  {
   "cell_type": "code",
   "execution_count": 51,
   "metadata": {},
   "outputs": [
    {
     "data": {
      "text/plain": [
       "13"
      ]
     },
     "execution_count": 51,
     "metadata": {},
     "output_type": "execute_result"
    }
   ],
   "source": [
    "def base_calculator1(base):\n",
    "    # i = 0\n",
    "    wrap = lambda x, y: x + y + base\n",
    "    return wrap\n",
    "\n",
    "fn = base_calculator1(10)\n",
    "\n",
    "fn(1, 2)"
   ]
  },
  {
   "cell_type": "code",
   "execution_count": 53,
   "metadata": {},
   "outputs": [
    {
     "name": "stdout",
     "output_type": "stream",
     "text": [
      "13\n",
      "23\n",
      "33\n"
     ]
    }
   ],
   "source": [
    "def base_calculator1(base):\n",
    "    def wrap(x, y):\n",
    "        return x + y + base\n",
    "    return wrap\n",
    "\n",
    "fn_10 = base_calculator1(10)\n",
    "fn_20 = base_calculator1(20)\n",
    "fn_30 = base_calculator1(30)\n",
    "\n",
    "print(fn_10(1, 2))\n",
    "print(fn_20(1, 2))\n",
    "print(fn_30(1, 2))"
   ]
  },
  {
   "cell_type": "code",
   "execution_count": 57,
   "metadata": {
    "collapsed": true
   },
   "outputs": [],
   "source": [
    "def say_hello3(name: str, age: int) -> str:\n",
    "    return \"안녕. {}. {}\".format(name, age)"
   ]
  },
  {
   "cell_type": "code",
   "execution_count": 59,
   "metadata": {},
   "outputs": [
    {
     "data": {
      "text/plain": [
       "'안녕. Tom. Seoul'"
      ]
     },
     "execution_count": 59,
     "metadata": {},
     "output_type": "execute_result"
    }
   ],
   "source": [
    "say_hello3('Tom', 'Seoul')"
   ]
  },
  {
   "cell_type": "markdown",
   "metadata": {},
   "source": [
    "## 클래스"
   ]
  },
  {
   "cell_type": "code",
   "execution_count": 65,
   "metadata": {
    "collapsed": true
   },
   "outputs": [],
   "source": [
    "class Person:\n",
    "    def __init__(self, name, age):\n",
    "        self.name = name\n",
    "        self.age = age"
   ]
  },
  {
   "cell_type": "code",
   "execution_count": 67,
   "metadata": {},
   "outputs": [
    {
     "data": {
      "text/plain": [
       "('Tom', 10)"
      ]
     },
     "execution_count": 67,
     "metadata": {},
     "output_type": "execute_result"
    }
   ],
   "source": [
    "tom = Person('Tom', 10)\n",
    "tom.name, tom.age"
   ]
  },
  {
   "cell_type": "code",
   "execution_count": 68,
   "metadata": {},
   "outputs": [
    {
     "data": {
      "text/plain": [
       "('John', 12)"
      ]
     },
     "execution_count": 68,
     "metadata": {},
     "output_type": "execute_result"
    }
   ],
   "source": [
    "john = Person('John', 12)\n",
    "john.name, john.age"
   ]
  },
  {
   "cell_type": "code",
   "execution_count": null,
   "metadata": {
    "collapsed": true
   },
   "outputs": [],
   "source": [
    "# 파이썬의 인스턴스 변수 선언을 오해하는 상황\n",
    "\n",
    "class Person:\n",
    "    name = None  # 클래스 변수\n",
    "    age = None   # 클래스 변순\n",
    "\n",
    "    def __init__(self, name, age):\n",
    "        self.name = name\n",
    "        self.age = age"
   ]
  },
  {
   "cell_type": "code",
   "execution_count": 73,
   "metadata": {},
   "outputs": [
    {
     "name": "stdout",
     "output_type": "stream",
     "text": [
      "['김치', '나시고랭']\n",
      "['김치', '나시고랭', '맥주']\n"
     ]
    }
   ],
   "source": [
    "class Person:\n",
    "    food_list = []\n",
    "\n",
    "    def eat(self, food):\n",
    "        self.food_list.append(food)\n",
    "\n",
    "tom = Person()\n",
    "tom.eat('김치')\n",
    "tom.eat('나시고랭')\n",
    "print(tom.food_list)\n",
    "\n",
    "steve = Person()\n",
    "steve.eat('맥주')\n",
    "print(steve.food_list)"
   ]
  },
  {
   "cell_type": "code",
   "execution_count": 74,
   "metadata": {},
   "outputs": [
    {
     "name": "stdout",
     "output_type": "stream",
     "text": [
      "['김치', '나시고랭']\n",
      "['맥주']\n"
     ]
    }
   ],
   "source": [
    "class Person:\n",
    "    def __init__(self):\n",
    "        self.food_list = []\n",
    "\n",
    "    def eat(self, food):\n",
    "        self.food_list.append(food)\n",
    "\n",
    "tom = Person()\n",
    "tom.eat('김치')\n",
    "tom.eat('나시고랭')\n",
    "print(tom.food_list)\n",
    "\n",
    "steve = Person()\n",
    "steve.eat('맥주')\n",
    "print(steve.food_list)"
   ]
  },
  {
   "cell_type": "markdown",
   "metadata": {},
   "source": [
    "## 커스텀 클래스 Person"
   ]
  },
  {
   "cell_type": "code",
   "execution_count": 76,
   "metadata": {},
   "outputs": [
    {
     "name": "stdout",
     "output_type": "stream",
     "text": [
      "안녕하세요. Tom님. Seoul에서 오셨군요.\n",
      "안녕하세요. Steve님. Pusan에서 오셨군요.\n",
      "안녕하세요. 공유님. 도깨비나라에서 오셨군요.\n"
     ]
    }
   ],
   "source": [
    "class Person:\n",
    "    def __init__(self, name, age, region):\n",
    "        self.name = name\n",
    "        self.age = age\n",
    "        self.region = region\n",
    "    \n",
    "tom = Person('Tom', 10, 'Seoul')\n",
    "print('안녕하세요. {}님. {}에서 오셨군요.'.format(\n",
    "    tom.name, tom.region))\n",
    "steve = Person('Steve', 10, 'Pusan')\n",
    "print('안녕하세요. {}님. {}에서 오셨군요.'.format(\n",
    "    steve.name, steve.region))\n",
    "gongyou = Person('공유', 37, '도깨비나라')\n",
    "print('안녕하세요. {}님. {}에서 오셨군요.'.format(\n",
    "    gongyou.name, gongyou.region))"
   ]
  },
  {
   "cell_type": "code",
   "execution_count": 77,
   "metadata": {},
   "outputs": [
    {
     "name": "stdout",
     "output_type": "stream",
     "text": [
      "안녕하세요. Tom님. Seoul에서 오셨군요.\n",
      "안녕하세요. Steve님. Pusan에서 오셨군요.\n",
      "안녕하세요. 공유님. 도깨비나라에서 오셨군요.\n"
     ]
    }
   ],
   "source": [
    "class Person:\n",
    "    def __init__(self, name, age, region):\n",
    "        self.name = name\n",
    "        self.age = age\n",
    "        self.region = region\n",
    "    \n",
    "    def say_hello(self):\n",
    "        print('안녕하세요. {}님. {}에서 오셨군요.'.format(\n",
    "            self.name, self.region))\n",
    "    \n",
    "tom = Person('Tom', 10, 'Seoul')\n",
    "tom.say_hello()\n",
    "\n",
    "steve = Person('Steve', 10, 'Pusan')\n",
    "steve.say_hello()\n",
    "\n",
    "gongyou = Person('공유', 37, '도깨비나라')\n",
    "gongyou.say_hello()"
   ]
  },
  {
   "cell_type": "code",
   "execution_count": 80,
   "metadata": {},
   "outputs": [
    {
     "name": "stdout",
     "output_type": "stream",
     "text": [
      "안녕하세요. 공유님. 도깨비나라에서 오셨군요.\n",
      "도깨비나라에서 캐나다(으)로 이사합니다.\n",
      "안녕하세요. 공유님. 캐나다에서 오셨군요.\n"
     ]
    }
   ],
   "source": [
    "class Person:\n",
    "    def __init__(self, name, age, region):\n",
    "        self.name = name\n",
    "        self.age = age\n",
    "        self.region = region\n",
    "    \n",
    "    def say_hello(self):\n",
    "        print('안녕하세요. {}님. {}에서 오셨군요.'.format(\n",
    "            self.name, self.region))\n",
    "        \n",
    "    def move_to(self, region):\n",
    "        print('{}에서 {}(으)로 이사합니다.'.format(self.region, region))\n",
    "        self.region = region\n",
    "    \n",
    "gongyou = Person('공유', 37, '도깨비나라')\n",
    "gongyou.say_hello()\n",
    "gongyou.move_to('캐나다')\n",
    "gongyou.say_hello()"
   ]
  },
  {
   "cell_type": "markdown",
   "metadata": {},
   "source": [
    "## 호출가능한 객체"
   ]
  },
  {
   "cell_type": "code",
   "execution_count": 89,
   "metadata": {
    "collapsed": true
   },
   "outputs": [],
   "source": [
    "class Calculator:\n",
    "    def __init__(self, base):\n",
    "        self.base = base\n",
    "    \n",
    "    def sum(self, x, y):\n",
    "        return self.base + x + y\n",
    "\n",
    "    def __call__(self, x, y):\n",
    "        return self.base + x + y"
   ]
  },
  {
   "cell_type": "code",
   "execution_count": 91,
   "metadata": {},
   "outputs": [
    {
     "name": "stdout",
     "output_type": "stream",
     "text": [
      "13\n",
      "15\n",
      "13\n",
      "13\n"
     ]
    }
   ],
   "source": [
    "calc_10 = Calculator(10)\n",
    "print(calc_10.sum(1, 2))\n",
    "print(calc_10.sum(2, 3))\n",
    "print(calc_10.__call__(1, 2))\n",
    "print(calc_10(1, 2))"
   ]
  },
  {
   "cell_type": "code",
   "execution_count": 95,
   "metadata": {
    "collapsed": true
   },
   "outputs": [],
   "source": [
    "def longlonglong_fn1(x, y):\n",
    "    x += 1\n",
    "    y += 10\n",
    "    x = x + y + 10\n",
    "    print('작업 중')\n",
    "    return x + y\n",
    "\n",
    "def longlonglong_fn2(x, y):\n",
    "    x += 1\n",
    "    y += 10\n",
    "    x = x + y + 10\n",
    "    print('처리 중')\n",
    "    return x + y"
   ]
  },
  {
   "cell_type": "code",
   "execution_count": 96,
   "metadata": {},
   "outputs": [
    {
     "name": "stdout",
     "output_type": "stream",
     "text": [
      "작업 중\n"
     ]
    },
    {
     "data": {
      "text/plain": [
       "36"
      ]
     },
     "execution_count": 96,
     "metadata": {},
     "output_type": "execute_result"
    }
   ],
   "source": [
    "longlonglong_fn1(1, 2)"
   ]
  },
  {
   "cell_type": "code",
   "execution_count": 100,
   "metadata": {},
   "outputs": [
    {
     "name": "stdout",
     "output_type": "stream",
     "text": [
      "작업 중\n",
      "36\n",
      "처리 중\n",
      "36\n"
     ]
    }
   ],
   "source": [
    "class LongLongLong:\n",
    "    def myprint(self):\n",
    "        print('작업 중')\n",
    "\n",
    "    def __call__(self, x, y):\n",
    "        x += 1\n",
    "        y += 10\n",
    "        x = x + y + 10\n",
    "        self.myprint()\n",
    "        return x + y\n",
    "    \n",
    "class LongLongLong2(LongLongLong):\n",
    "    def myprint(self):\n",
    "        print('처리 중')\n",
    "\n",
    "longlonglong_fn1 = LongLongLong()\n",
    "print(longlonglong_fn1(1, 2))\n",
    "\n",
    "longlonglong_fn2 = LongLongLong2()\n",
    "print(longlonglong_fn2(1, 2))"
   ]
  },
  {
   "cell_type": "code",
   "execution_count": 106,
   "metadata": {
    "collapsed": true
   },
   "outputs": [],
   "source": [
    "class Calculator:\n",
    "    def __init__(self, base):\n",
    "        self.base = base\n",
    "    \n",
    "    def __call__(self, x, y):\n",
    "        self.base += (x +y)\n",
    "        return self.base"
   ]
  },
  {
   "cell_type": "code",
   "execution_count": 108,
   "metadata": {},
   "outputs": [
    {
     "name": "stdout",
     "output_type": "stream",
     "text": [
      "13\n",
      "16\n",
      "19\n"
     ]
    }
   ],
   "source": [
    "calc_10 = Calculator(10)\n",
    "print(calc_10(1, 2))\n",
    "print(calc_10(1, 2))\n",
    "print(calc_10(1, 2))"
   ]
  },
  {
   "cell_type": "code",
   "execution_count": 109,
   "metadata": {
    "collapsed": true
   },
   "outputs": [],
   "source": [
    "def myfn(fn, x, y):\n",
    "    return fn(x, y)"
   ]
  },
  {
   "cell_type": "code",
   "execution_count": 110,
   "metadata": {},
   "outputs": [
    {
     "data": {
      "text/plain": [
       "22"
      ]
     },
     "execution_count": 110,
     "metadata": {},
     "output_type": "execute_result"
    }
   ],
   "source": [
    "myfn(calc_10, 1, 2)"
   ]
  },
  {
   "cell_type": "code",
   "execution_count": 111,
   "metadata": {},
   "outputs": [
    {
     "data": {
      "text/plain": [
       "25"
      ]
     },
     "execution_count": 111,
     "metadata": {},
     "output_type": "execute_result"
    }
   ],
   "source": [
    "myfn(calc_10, 1, 2)"
   ]
  },
  {
   "cell_type": "code",
   "execution_count": 112,
   "metadata": {},
   "outputs": [
    {
     "data": {
      "text/plain": [
       "28"
      ]
     },
     "execution_count": 112,
     "metadata": {},
     "output_type": "execute_result"
    }
   ],
   "source": [
    "myfn(calc_10, 1, 2)"
   ]
  },
  {
   "cell_type": "markdown",
   "metadata": {},
   "source": [
    "## 순회가능한 객체"
   ]
  },
  {
   "cell_type": "code",
   "execution_count": 113,
   "metadata": {
    "collapsed": true
   },
   "outputs": [],
   "source": [
    "strings = 'abcdefg'"
   ]
  },
  {
   "cell_type": "code",
   "execution_count": 114,
   "metadata": {},
   "outputs": [
    {
     "data": {
      "text/plain": [
       "('a', 'b', 'c', 'd', 'e', 'f', 'g')"
      ]
     },
     "execution_count": 114,
     "metadata": {},
     "output_type": "execute_result"
    }
   ],
   "source": [
    "tuple(strings)"
   ]
  },
  {
   "cell_type": "code",
   "execution_count": 116,
   "metadata": {},
   "outputs": [
    {
     "name": "stdout",
     "output_type": "stream",
     "text": [
      "1\n",
      "2\n",
      "3\n",
      "4\n",
      "5\n",
      "7\n",
      "8\n",
      "9\n",
      "10\n"
     ]
    }
   ],
   "source": [
    "# 집합\n",
    "for i in {10, 9, 8, 7, 1, 2, 3, 1, 2, 4, 5}:\n",
    "    print(i)"
   ]
  },
  {
   "cell_type": "code",
   "execution_count": 118,
   "metadata": {},
   "outputs": [
    {
     "name": "stdout",
     "output_type": "stream",
     "text": [
      "10\n",
      "9\n",
      "5\n",
      "4\n",
      "2\n"
     ]
    }
   ],
   "source": [
    "# 집합 - 정렬이 필요하다면\n",
    "# for i in sorted({10, 9, 2, 4, 5}):\n",
    "for i in sorted({10, 9, 2, 4, 5}, reverse=True):\n",
    "    print(i)"
   ]
  },
  {
   "cell_type": "code",
   "execution_count": 122,
   "metadata": {},
   "outputs": [
    {
     "name": "stdout",
     "output_type": "stream",
     "text": [
      "d 4\n",
      "b 2\n",
      "c 3\n",
      "a 1\n"
     ]
    }
   ],
   "source": [
    "#for val in {'a': 1, 'b': 2, 'c': 3, 'd': 4}:  # 키순회\n",
    "#for val in {'a': 1, 'b': 2, 'c': 3, 'd': 4}.values():  # 값 순회\n",
    "for (key, val) in {'a': 1, 'b': 2, 'c': 3, 'd': 4}.items(): # 키/값 순회\n",
    "    print(key, val)"
   ]
  },
  {
   "cell_type": "code",
   "execution_count": 123,
   "metadata": {},
   "outputs": [
    {
     "data": {
      "text/plain": [
       "(20, 10)"
      ]
     },
     "execution_count": 123,
     "metadata": {},
     "output_type": "execute_result"
    }
   ],
   "source": [
    "i = 10\n",
    "j = 20\n",
    "temp = i\n",
    "i = j\n",
    "j = temp\n",
    "i, j"
   ]
  },
  {
   "cell_type": "code",
   "execution_count": 124,
   "metadata": {
    "collapsed": true
   },
   "outputs": [],
   "source": [
    "i = 10\n",
    "j = 20\n",
    "i, j = j, i"
   ]
  },
  {
   "cell_type": "code",
   "execution_count": 125,
   "metadata": {},
   "outputs": [
    {
     "data": {
      "text/plain": [
       "(20, 10)"
      ]
     },
     "execution_count": 125,
     "metadata": {},
     "output_type": "execute_result"
    }
   ],
   "source": [
    "i, j"
   ]
  },
  {
   "cell_type": "markdown",
   "metadata": {},
   "source": [
    "## 오버라이딩"
   ]
  },
  {
   "cell_type": "code",
   "execution_count": 127,
   "metadata": {},
   "outputs": [],
   "source": [
    "class Person:\n",
    "    def run(self):\n",
    "        print('뜁니다.')"
   ]
  },
  {
   "cell_type": "code",
   "execution_count": 128,
   "metadata": {
    "collapsed": true
   },
   "outputs": [],
   "source": [
    "class SoccerPlayer(Person):\n",
    "    def run(self):\n",
    "        print('발로 공을 드리블하며 뜁니다.')"
   ]
  },
  {
   "cell_type": "code",
   "execution_count": 129,
   "metadata": {},
   "outputs": [
    {
     "name": "stdout",
     "output_type": "stream",
     "text": [
      "발로 공을 드리블하며 뜁니다.\n"
     ]
    }
   ],
   "source": [
    "SoccerPlayer().run()"
   ]
  },
  {
   "cell_type": "code",
   "execution_count": 134,
   "metadata": {
    "collapsed": true
   },
   "outputs": [],
   "source": [
    "class BasketballPlayer(Person):\n",
    "    def run(self):\n",
    "        print('손으로 공을 드리블합니다.')\n",
    "        # super().run()\n",
    "        super(BasketballPlayer, self).run()"
   ]
  },
  {
   "cell_type": "code",
   "execution_count": 133,
   "metadata": {},
   "outputs": [
    {
     "name": "stdout",
     "output_type": "stream",
     "text": [
      "손으로 공을 드리블합니다.\n",
      "뜁니다.\n"
     ]
    }
   ],
   "source": [
    "BasketballPlayer().run()"
   ]
  },
  {
   "cell_type": "markdown",
   "metadata": {},
   "source": [
    "## 예외"
   ]
  },
  {
   "cell_type": "code",
   "execution_count": 138,
   "metadata": {},
   "outputs": [
    {
     "name": "stdout",
     "output_type": "stream",
     "text": [
      "line 1\n",
      "10진수 문자열만 변환가능합니다.\n",
      "line 2\n"
     ]
    }
   ],
   "source": [
    "print('line 1')\n",
    "try:\n",
    "    int('a') + 10\n",
    "except ValueError:\n",
    "    print('10진수 문자열만 변환가능합니다.')\n",
    "print('line 2')"
   ]
  },
  {
   "cell_type": "code",
   "execution_count": null,
   "metadata": {
    "collapsed": true
   },
   "outputs": [],
   "source": [
    "# 예외 지정은 타이트하게 !!\n",
    "\n",
    "print('line 1')\n",
    "try:\n",
    "    int('a') + 10\n",
    "except:\n",
    "    print('10진수 문자열만 변환가능합니다.')\n",
    "print('line 2')"
   ]
  },
  {
   "cell_type": "markdown",
   "metadata": {},
   "source": [
    "## 장식자"
   ]
  },
  {
   "cell_type": "code",
   "execution_count": 139,
   "metadata": {},
   "outputs": [
    {
     "data": {
      "text/plain": [
       "13"
      ]
     },
     "execution_count": 139,
     "metadata": {},
     "output_type": "execute_result"
    }
   ],
   "source": [
    "def base_10(fn):\n",
    "    def wrap(x, y):\n",
    "        return fn(x, y) + 10\n",
    "    return wrap\n",
    "\n",
    "def mysum(x, y):\n",
    "    return x + y\n",
    "\n",
    "result_fn = base_10(mysum)\n",
    "result_fn(1, 2)"
   ]
  },
  {
   "cell_type": "code",
   "execution_count": 140,
   "metadata": {},
   "outputs": [
    {
     "data": {
      "text/plain": [
       "13"
      ]
     },
     "execution_count": 140,
     "metadata": {},
     "output_type": "execute_result"
    }
   ],
   "source": [
    "def base_10(fn):\n",
    "    def wrap(x, y):\n",
    "        return fn(x, y) + 10\n",
    "    return wrap\n",
    "\n",
    "def mysum(x, y):\n",
    "    return x + y\n",
    "\n",
    "mysum = base_10(mysum)\n",
    "mysum(1, 2)"
   ]
  },
  {
   "cell_type": "code",
   "execution_count": 142,
   "metadata": {},
   "outputs": [
    {
     "data": {
      "text/plain": [
       "13"
      ]
     },
     "execution_count": 142,
     "metadata": {},
     "output_type": "execute_result"
    }
   ],
   "source": [
    "def base_10(fn):\n",
    "    def wrap(x, y):\n",
    "        return fn(x, y) + 10\n",
    "    return wrap\n",
    "\n",
    "@base_10\n",
    "def mysum(x, y):\n",
    "    return x + y\n",
    "\n",
    "# mysum = base_10(mysum)\n",
    "\n",
    "mysum(1, 2)"
   ]
  },
  {
   "cell_type": "code",
   "execution_count": 146,
   "metadata": {},
   "outputs": [
    {
     "data": {
      "text/plain": [
       "63"
      ]
     },
     "execution_count": 146,
     "metadata": {},
     "output_type": "execute_result"
    }
   ],
   "source": [
    "def base_10(fn):\n",
    "    def wrap(x, y):\n",
    "        return fn(x, y) + 10\n",
    "    return wrap\n",
    "\n",
    "def base_20(fn):\n",
    "    def wrap(x, y):\n",
    "        return fn(x, y) + 20\n",
    "    return wrap\n",
    "\n",
    "def base_30(fn):\n",
    "    def wrap(x, y):\n",
    "        return fn(x, y) + 30\n",
    "    return wrap\n",
    "\n",
    "@base_10\n",
    "@base_20\n",
    "@base_30\n",
    "def mysum(x, y):\n",
    "    return x + y\n",
    "\n",
    "# mysum = base_10(mysum)\n",
    "\n",
    "mysum(1, 2)"
   ]
  },
  {
   "cell_type": "code",
   "execution_count": 149,
   "metadata": {},
   "outputs": [
    {
     "data": {
      "text/plain": [
       "63"
      ]
     },
     "execution_count": 149,
     "metadata": {},
     "output_type": "execute_result"
    }
   ],
   "source": [
    "def base(base_i):\n",
    "    def wrap(fn):\n",
    "        def inner(x, y):\n",
    "            return fn(x, y) + base_i\n",
    "        return inner\n",
    "    return wrap\n",
    "\n",
    "base_10 = base(10)\n",
    "base_20 = base(20)\n",
    "base_30 = base(30)\n",
    "\n",
    "@base_10\n",
    "@base_20\n",
    "@base_30\n",
    "def mysum(x, y):\n",
    "    return x + y\n",
    "\n",
    "# mysum = base_10(base_20(base_30(mysum)))\n",
    "\n",
    "mysum(1, 2)"
   ]
  },
  {
   "cell_type": "code",
   "execution_count": 150,
   "metadata": {},
   "outputs": [
    {
     "data": {
      "text/plain": [
       "63"
      ]
     },
     "execution_count": 150,
     "metadata": {},
     "output_type": "execute_result"
    }
   ],
   "source": [
    "def base(base_i):\n",
    "    def wrap(fn):\n",
    "        def inner(x, y):\n",
    "            return fn(x, y) + base_i\n",
    "        return inner\n",
    "    return wrap\n",
    "\n",
    "@base(10)\n",
    "@base(20)\n",
    "@base(30)\n",
    "def mysum(x, y):\n",
    "    return x + y\n",
    "\n",
    "mysum(1, 2)"
   ]
  },
  {
   "cell_type": "code",
   "execution_count": null,
   "metadata": {
    "collapsed": true
   },
   "outputs": [],
   "source": [
    "@login_required\n",
    "def premium_page(request):\n",
    "    pass"
   ]
  },
  {
   "cell_type": "markdown",
   "metadata": {},
   "source": [
    "## memoize"
   ]
  },
  {
   "cell_type": "code",
   "execution_count": 161,
   "metadata": {
    "collapsed": true
   },
   "outputs": [],
   "source": [
    "import time\n",
    "\n",
    "cached = {}\n",
    "cached2 = {}\n",
    "\n",
    "def mysum(x, y):\n",
    "    key = (x, y)\n",
    "    if key not in cached:\n",
    "        time.sleep(1)\n",
    "        cached[key] = x + y\n",
    "    return cached[key]\n",
    "\n",
    "def mymultiply(x, y):\n",
    "    key = (x, y)\n",
    "    if key not in cached2:\n",
    "        time.sleep(1)\n",
    "        cached2[key] = x + y\n",
    "    return cached2[key]"
   ]
  },
  {
   "cell_type": "code",
   "execution_count": 162,
   "metadata": {},
   "outputs": [
    {
     "name": "stdout",
     "output_type": "stream",
     "text": [
      "3\n",
      "3\n",
      "3\n"
     ]
    }
   ],
   "source": [
    "print(mymultiply(1, 2))\n",
    "print(mymultiply(1, 2))\n",
    "print(mymultiply(1, 2))\n",
    "\n",
    "# print(mysum(1, 2))\n",
    "# print(mysum(1, 2))\n",
    "# print(mysum(1, 2))\n",
    "# print(mysum(2, 3))\n",
    "# print(mysum(2, 3))\n",
    "# print(mysum(2, 3))\n",
    "# print(mysum(2, 4))"
   ]
  },
  {
   "cell_type": "code",
   "execution_count": 163,
   "metadata": {
    "collapsed": true
   },
   "outputs": [],
   "source": [
    "# 드디어 장식자 memoize"
   ]
  },
  {
   "cell_type": "code",
   "execution_count": 166,
   "metadata": {
    "collapsed": true
   },
   "outputs": [],
   "source": [
    "import time\n",
    "\n",
    "def memoize(fn):\n",
    "    cached = {}\n",
    "    def wrap(x, y):\n",
    "        key = (x, y)\n",
    "        if key not in cached:\n",
    "            cached[key] = fn(x, y)\n",
    "        return cached[key]\n",
    "    return wrap\n",
    "\n",
    "@memoize\n",
    "def mysum(x, y):\n",
    "    time.sleep(1)\n",
    "    return x + y\n",
    "\n",
    "@memoize\n",
    "def mymultiply(x, y):\n",
    "    time.sleep(1)\n",
    "    return x * y"
   ]
  },
  {
   "cell_type": "code",
   "execution_count": 171,
   "metadata": {},
   "outputs": [
    {
     "name": "stdout",
     "output_type": "stream",
     "text": [
      "2\n",
      "2\n",
      "2\n",
      "13\n",
      "13\n",
      "13\n",
      "15\n",
      "15\n",
      "15\n",
      "16\n"
     ]
    }
   ],
   "source": [
    "print(mymultiply(1, 2))\n",
    "print(mymultiply(1, 2))\n",
    "print(mymultiply(1, 2))\n",
    "\n",
    "print(mysum(1, 2))\n",
    "print(mysum(1, 2))\n",
    "print(mysum(1, 2))\n",
    "print(mysum(2, 3))\n",
    "print(mysum(2, 3))\n",
    "print(mysum(2, 3))\n",
    "print(mysum(2, 4))"
   ]
  },
  {
   "cell_type": "markdown",
   "metadata": {},
   "source": [
    "## 퀴즈"
   ]
  },
  {
   "cell_type": "code",
   "execution_count": 177,
   "metadata": {},
   "outputs": [],
   "source": [
    "def filter_even(fn):\n",
    "    def wrap(a, b, c, d, e):\n",
    "        # 구현 !!!\n",
    "        pass\n",
    "    return wrap\n",
    "\n",
    "@filter_even\n",
    "def mysum(a, b, c, d, e):\n",
    "    return a + b + c + d + e\n",
    "\n",
    "mysum(1, 2, 3, 4, 5) # 6"
   ]
  },
  {
   "cell_type": "code",
   "execution_count": 181,
   "metadata": {},
   "outputs": [
    {
     "data": {
      "text/plain": [
       "6"
      ]
     },
     "execution_count": 181,
     "metadata": {},
     "output_type": "execute_result"
    }
   ],
   "source": [
    "def filter_even(fn):\n",
    "    def wrap(*args):  # packing\n",
    "        # args = (1, 2, 3, 4, 5)\n",
    "        new_args = []\n",
    "        for i in args:\n",
    "            if i % 2 != 0:\n",
    "                i = 0\n",
    "            new_args.append(i)\n",
    "\n",
    "        return fn(*new_args)  # unpacking\n",
    "\n",
    "#         if a % 2 != 0: a = 0\n",
    "#         if b % 2 != 0: b = 0\n",
    "#         if c % 2 != 0: c = 0\n",
    "#         if d % 2 != 0: d = 0\n",
    "#         if e % 2 != 0: e = 0\n",
    "#         return fn(a, b, c, d, e)\n",
    "    return wrap\n",
    "\n",
    "@filter_even\n",
    "def mysum(a, b, c, d, e):\n",
    "    return a + b + c + d + e\n",
    "\n",
    "mysum(1, 2, 3, 4, 5) # 6"
   ]
  },
  {
   "cell_type": "code",
   "execution_count": 184,
   "metadata": {},
   "outputs": [
    {
     "data": {
      "text/plain": [
       "6"
      ]
     },
     "execution_count": 184,
     "metadata": {},
     "output_type": "execute_result"
    }
   ],
   "source": [
    "def filter_even(fn):\n",
    "    def wrap(*args):  # packing\n",
    "        # list comprehension\n",
    "#        new_args = [\n",
    "#            i if i % 2 == 0 else 0\n",
    "#            for i in args]\n",
    "        \n",
    "        # generator expression\n",
    "        new_args = (\n",
    "            i if i % 2 == 0 else 0\n",
    "            for i in args)\n",
    "\n",
    "        return fn(*new_args)  # unpacking\n",
    "\n",
    "#         if a % 2 != 0: a = 0\n",
    "#         if b % 2 != 0: b = 0\n",
    "#         if c % 2 != 0: c = 0\n",
    "#         if d % 2 != 0: d = 0\n",
    "#         if e % 2 != 0: e = 0\n",
    "#         return fn(a, b, c, d, e)\n",
    "    return wrap\n",
    "\n",
    "@filter_even\n",
    "def mysum(a, b, c, d, e):\n",
    "    return a + b + c + d + e\n",
    "\n",
    "mysum(1, 2, 3, 4, 5) # 6"
   ]
  },
  {
   "cell_type": "markdown",
   "metadata": {},
   "source": [
    "## 질문"
   ]
  },
  {
   "cell_type": "code",
   "execution_count": 169,
   "metadata": {},
   "outputs": [
    {
     "data": {
      "text/plain": [
       "13"
      ]
     },
     "execution_count": 169,
     "metadata": {},
     "output_type": "execute_result"
    }
   ],
   "source": [
    "class Person:\n",
    "    def hello(self):\n",
    "        print('hello')\n",
    "    \n",
    "    def hi(self):\n",
    "        print('hi')\n",
    "\n",
    "    def __call__(self, fn):\n",
    "        def wrap(x, y):\n",
    "            return fn(x, y) + 10\n",
    "        return wrap\n",
    "    \n",
    "@Person()\n",
    "def mysum(x, y):\n",
    "    return x + y\n",
    "\n",
    "mysum(1, 2)"
   ]
  },
  {
   "cell_type": "code",
   "execution_count": 175,
   "metadata": {
    "collapsed": true
   },
   "outputs": [],
   "source": [
    "strings = ['h', 'e', 'l', 'l']"
   ]
  },
  {
   "cell_type": "code",
   "execution_count": 176,
   "metadata": {},
   "outputs": [
    {
     "name": "stdout",
     "output_type": "stream",
     "text": [
      "h\n",
      "e\n",
      "l\n",
      "l\n"
     ]
    }
   ],
   "source": [
    "for ch in strings:\n",
    "    print(ch)"
   ]
  },
  {
   "cell_type": "code",
   "execution_count": null,
   "metadata": {
    "collapsed": true
   },
   "outputs": [],
   "source": []
  }
 ],
 "metadata": {
  "kernelspec": {
   "display_name": "Python [default]",
   "language": "python",
   "name": "python3"
  },
  "language_info": {
   "codemirror_mode": {
    "name": "ipython",
    "version": 3
   },
   "file_extension": ".py",
   "mimetype": "text/x-python",
   "name": "python",
   "nbconvert_exporter": "python",
   "pygments_lexer": "ipython3",
   "version": "3.5.2"
  }
 },
 "nbformat": 4,
 "nbformat_minor": 2
}
